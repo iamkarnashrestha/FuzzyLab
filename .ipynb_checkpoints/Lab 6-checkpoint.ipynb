{
 "cells": [
  {
   "cell_type": "code",
   "execution_count": null,
   "metadata": {},
   "outputs": [],
   "source": [
    "def enter(name):\n",
    "    list={}\n",
    "    n=int(input(\"Enter the number of elements in set\"+name))\n",
    "    for i in range(n):\n",
    "        name=input(\"Enter the name: \")\n",
    "        while 1:\n",
    "            value=float(input(\"Enter the value: \"))\n",
    "            if(value>=0 and value<=1):\n",
    "                list[name]=value\n",
    "                break;\n",
    "            else:\n",
    "                print(\"Value must be >= 0 and <=1\")\n",
    "    return list\n",
    "    \n",
    "    \n",
    "def Height(A):\n",
    "    check=not bool(A)\n",
    "    if(check==False):\n",
    "        all_values = A.values()\n",
    "        max_value = max(all_values)\n",
    "        return max_value\n",
    "\n",
    "def Max_membership(A):\n",
    "    return( max(A, key= lambda x: A[x]))\n",
    "\n",
    "def Mean_max(A):\n",
    "    counter=0\n",
    "    sum=0\n",
    "    maxvalue=Height(A)\n",
    "    for items in A:\n",
    "        if(A[items]==maxvalue):\n",
    "            sum=sum+int(items)\n",
    "            counter=counter+1\n",
    "    return round((sum/counter),2)\n",
    "            \n",
    "    \n",
    "# A = {\"10\": 0.8, \"20\": 0.3, \"30\": 1.0}  \n",
    "A=enter(\" for Max membership\")\n",
    "print(\"The difuzzified value from given fuzzy set using Max membership method is:\",Max_membership(A))   \n",
    "# A = {\"10\": 0.8, \"20\": 0.3, \"31\": 1.0, \"40\": 1.0} \n",
    "A=enter(\" for Mean max membership\")\n",
    "print(\"The difuzzified value from given fuzzy set using Mean Max membership method is:\",Mean_max(A))"
   ]
  }
 ],
 "metadata": {
  "kernelspec": {
   "display_name": "Python 3",
   "language": "python",
   "name": "python3"
  },
  "language_info": {
   "codemirror_mode": {
    "name": "ipython",
    "version": 3
   },
   "file_extension": ".py",
   "mimetype": "text/x-python",
   "name": "python",
   "nbconvert_exporter": "python",
   "pygments_lexer": "ipython3",
   "version": "3.7.6"
  }
 },
 "nbformat": 4,
 "nbformat_minor": 4
}
