{
 "cells": [
  {
   "cell_type": "code",
   "execution_count": 2,
   "metadata": {},
   "outputs": [
    {
     "name": "stdout",
     "output_type": "stream",
     "text": [
      "Enter the number of elements in set2\n",
      "Enter the elements of set A:\n",
      "Enter the name: a\n",
      "Enter the value: 0\n",
      "Enter the name: b\n",
      "Enter the value: 1\n",
      "Enter the elements of set A:\n",
      "Enter the name: a\n",
      "Enter the value: 1\n",
      "Enter the name: b\n",
      "Enter the value: 1\n",
      "The First Crisp Set is : {'a': 1, 'b': 1, 'c': 1}\n",
      "The Second Crisp Set is : {'a': 0, 'b': 1, 'c': 0}\n",
      "Fuzzy Set Union is : {'a': 1, 'b': 1, 'c': 1}\n"
     ]
    }
   ],
   "source": [
    "\n",
    "# Example to Demonstrate the \n",
    "# Union of Two Fuzzy Sets\n",
    "\n",
    "Y = dict()\n",
    "A={}\n",
    "B={}\n",
    "n=int(input(\"Enter the number of elements in set\"))\n",
    "print(\"Enter the elements of set A:\")\n",
    "for i in range(n):\n",
    "    name=input(\"Enter the name: \")\n",
    "    value=int(input(\"Enter the value: \"))\n",
    "    if(value==1 or value==0):\n",
    "        A[name]=value\n",
    "    else:\n",
    "        print(\"Value must be 0 or 1\")\n",
    "    \n",
    "print(\"Enter the elements of set A:\")       \n",
    "for i in range(n):\n",
    "    name=input(\"Enter the name: \")\n",
    "    value=input(\"Enter the value: \")\n",
    "    if(value==1 or value==0):\n",
    "        A[name]=value\n",
    "    else:\n",
    "        print(\"Value must be 0 or 1\")\n",
    "    \n",
    "  \n",
    "print('The First Crisp Set is :', A)\n",
    "print('The Second Crisp Set is :', B)\n",
    "\n",
    "for A_key, B_key in zip(A, B):\n",
    "    A_value = A[A_key]\n",
    "    B_value = B[B_key]\n",
    "  \n",
    "    if A_value >= B_value and A_value==1 or B_value==1:\n",
    "        Y[A_key] = A_value\n",
    "    elif B_value>A_value:\n",
    "        Y[B_key] = B_value\n",
    "          \n",
    "print('Fuzzy Set Union is :', Y)"
   ]
  },
  {
   "cell_type": "code",
   "execution_count": null,
   "metadata": {},
   "outputs": [],
   "source": [
    "# Example to Demonstrate\n",
    "# Intersection of Two Fuzzy Sets\n",
    "A = dict()\n",
    "B = dict()\n",
    "Y_set = dict()\n",
    "A = {\"a\": 1, \"b\": 1, \"c\": 1}\n",
    "B = {\"a\": 0, \"b\": 1, \"c\": 0}\n",
    "for A_key, B_key in zip(A, B):\n",
    "    A_value = A[A_key]\n",
    "    B_value = B[B_key]\n",
    "        \n",
    "    if A_value <= B_value :\n",
    "            Y_set[A_key] = A_value\n",
    "    elif B_value<=A_value:\n",
    "            Y_set[B_key] = B_value\n",
    "print('Intersection of crisp Set is :', Y_set)\n"
   ]
  }
 ],
 "metadata": {
  "kernelspec": {
   "display_name": "Python 3",
   "language": "python",
   "name": "python3"
  },
  "language_info": {
   "codemirror_mode": {
    "name": "ipython",
    "version": 3
   },
   "file_extension": ".py",
   "mimetype": "text/x-python",
   "name": "python",
   "nbconvert_exporter": "python",
   "pygments_lexer": "ipython3",
   "version": "3.7.6"
  }
 },
 "nbformat": 4,
 "nbformat_minor": 4
}
