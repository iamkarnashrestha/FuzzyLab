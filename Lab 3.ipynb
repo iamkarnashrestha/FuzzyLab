{
 "cells": [
  {
   "cell_type": "code",
   "execution_count": 17,
   "metadata": {},
   "outputs": [
    {
     "name": "stdout",
     "output_type": "stream",
     "text": [
      "Enter the number of elements in setA5\n",
      "Enter the name: a\n",
      "Enter the value: 0.3\n",
      "Enter the name: b\n",
      "Enter the value: 1\n",
      "Enter the name: c\n",
      "Enter the value: 0\n",
      "Enter the name: d\n",
      "Enter the value: 0.5\n",
      "Enter the name: e\n",
      "Enter the value: 0.8\n",
      "The set given is: {'a': 0.3, 'b': 1.0, 'c': 0.0, 'd': 0.5, 'e': 0.8}\n",
      "--------------------------------------\n",
      "The height of given set A is: 1.0\n",
      "The Support of given set A is: ['a', 'b', 'd', 'e']\n",
      "The Core of given set A is: ['b']\n",
      "The Boundary of given set A is: ['a', 'd', 'e']\n"
     ]
    }
   ],
   "source": [
    "#Lab 3 Implementation of Height, Core, Boundary and Support\n",
    "def enter(name):\n",
    "    list={}\n",
    "    n=int(input(\"Enter the number of elements in set\"+name))\n",
    "    for i in range(n):\n",
    "        name=input(\"Enter the name: \")\n",
    "        while 1:\n",
    "            value=float(input(\"Enter the value: \"))\n",
    "            if(value>=0 and value<=1):\n",
    "                list[name]=value\n",
    "                break;\n",
    "            else:\n",
    "                print(\"Value must be >= 0 and <=1\")\n",
    "    return list\n",
    "def Height(A):    \n",
    "    all_values = A.values()\n",
    "    max_value = max(all_values)\n",
    "    return max_value\n",
    "\n",
    "def Support(A):\n",
    "    support=[]\n",
    "    for A_key in A:\n",
    "        A_value = A[A_key]\n",
    "        if A_value>0:\n",
    "            support.append(A_key)\n",
    "    return support\n",
    "\n",
    "def Core(A):\n",
    "    core=[]\n",
    "    for A_key in A:\n",
    "        A_value = A[A_key]\n",
    "        if A_value==1:\n",
    "            core.append(A_key)\n",
    "    return core\n",
    "\n",
    "def Boundary(A):\n",
    "    b=[]\n",
    "    for A_key in A:\n",
    "        A_value = A[A_key]\n",
    "        if A_value<1 and A_value>0:\n",
    "            b.append(A_key)\n",
    "    return b\n",
    "    \n",
    "    \n",
    "# A = {\"a\": 0.8, \"b\": 0.3, \"c\": 1.0}\n",
    "A=enter(\"A\")\n",
    "print(\"The set given is:\",A)\n",
    "print(\"--------------------------------------\")\n",
    "print(\"The height of given set A is:\",Height(A))\n",
    "print(\"The Support of given set A is:\",Support(A))\n",
    "print(\"The Core of given set A is:\",Core(A))\n",
    "print(\"The Boundary of given set A is:\",Boundary(A))\n",
    "\n"
   ]
  }
 ],
 "metadata": {
  "kernelspec": {
   "display_name": "Python 3",
   "language": "python",
   "name": "python3"
  },
  "language_info": {
   "codemirror_mode": {
    "name": "ipython",
    "version": 3
   },
   "file_extension": ".py",
   "mimetype": "text/x-python",
   "name": "python",
   "nbconvert_exporter": "python",
   "pygments_lexer": "ipython3",
   "version": "3.7.6"
  }
 },
 "nbformat": 4,
 "nbformat_minor": 4
}
