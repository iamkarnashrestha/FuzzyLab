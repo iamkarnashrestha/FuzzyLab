{
 "cells": [
  {
   "cell_type": "code",
   "execution_count": 5,
   "metadata": {},
   "outputs": [
    {
     "name": "stdout",
     "output_type": "stream",
     "text": [
      "Enter the number of elements in set4\n",
      "Enter the name: a\n",
      "Enter the value: 0.3\n",
      "Enter the name: b\n",
      "Enter the value: 0.5\n",
      "Enter the name: c\n",
      "Enter the value: 1\n",
      "Enter the name: d\n",
      "Enter the value: 0.7\n",
      "The height of set A is: 1.0\n",
      "The support of set A is: ['a', 'b', 'c', 'd']\n",
      "The core of set A is: ['c']\n",
      "The border of set A is: ['a', 'b', 'd']\n"
     ]
    }
   ],
   "source": [
    "#Lab 3 Implementation of Height, Core, Boundary and Support\n",
    "\n",
    "A={}\n",
    "n=int(input(\"Enter the number of elements in set\"))\n",
    "for i in range(n):\n",
    "    name=input(\"Enter the name: \")\n",
    "    value=float(input(\"Enter the value: \"))\n",
    "    if(value>=0 and value<=1):\n",
    "        A[name]=value\n",
    "    else:\n",
    "        print(\"Value must be >= 0 and <=1\")    \n",
    "    \n",
    "all_values = A.values()\n",
    "max_value = max(all_values)\n",
    "print(\"The height of set A is:\",max_value)\n",
    "\n",
    "\n",
    "support=[]\n",
    "for A_key in A:\n",
    "    A_value = A[A_key]\n",
    "    if A_value>0:\n",
    "        support.append(A_key)\n",
    "print(\"The support of set A is:\",support);\n",
    "\n",
    "\n",
    "core=[]\n",
    "for A_key in A:\n",
    "    A_value = A[A_key]\n",
    "    if A_value==1:\n",
    "        core.append(A_key)\n",
    "print(\"The core of set A is:\",core)\n",
    "\n",
    "b=[]\n",
    "for A_key in A:\n",
    "    A_value = A[A_key]\n",
    "    if A_value<1 and A_value>0:\n",
    "        b.append(A_key)\n",
    "print(\"The border of set A is:\",b)\n",
    "    \n",
    "    \n",
    "\n"
   ]
  }
 ],
 "metadata": {
  "kernelspec": {
   "display_name": "Python 3",
   "language": "python",
   "name": "python3"
  },
  "language_info": {
   "codemirror_mode": {
    "name": "ipython",
    "version": 3
   },
   "file_extension": ".py",
   "mimetype": "text/x-python",
   "name": "python",
   "nbconvert_exporter": "python",
   "pygments_lexer": "ipython3",
   "version": "3.7.6"
  }
 },
 "nbformat": 4,
 "nbformat_minor": 4
}
