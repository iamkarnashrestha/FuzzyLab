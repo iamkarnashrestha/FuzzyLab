{
 "cells": [
  {
   "cell_type": "code",
   "execution_count": 6,
   "metadata": {},
   "outputs": [
    {
     "name": "stdout",
     "output_type": "stream",
     "text": [
      "{'a': 0, 'b': 1, 'c': 0}\n",
      "{'a': 0, 'b': 1, 'c': 1}\n",
      "A is subset\n"
     ]
    }
   ],
   "source": [
    "A = dict()\n",
    "Y = dict()\n",
    "A = {\"a\": 0, \"b\": 1, \"c\": 0}\n",
    "B= {\"a\": 0, \"b\": 1, \"c\": 1}\n",
    "print(A)\n",
    "print(B)\n",
    "countA=countB=0\n",
    "for A_key, B_key in zip(A,B):\n",
    "    A_value = A[A_key]\n",
    "    B_value = B[B_key]\n",
    "    \n",
    "    if B_value <= A_value :\n",
    "        countA=countA+1\n",
    "    if A_value<=B_value:\n",
    "        countB=countB+1       \n",
    "if(countA==len(B)):\n",
    "    print(\"B is subset of A\")\n",
    "if(countB==len(A)):\n",
    "    print(\"A is subset\")       "
   ]
  }
 ],
 "metadata": {
  "kernelspec": {
   "display_name": "Python 3",
   "language": "python",
   "name": "python3"
  },
  "language_info": {
   "codemirror_mode": {
    "name": "ipython",
    "version": 3
   },
   "file_extension": ".py",
   "mimetype": "text/x-python",
   "name": "python",
   "nbconvert_exporter": "python",
   "pygments_lexer": "ipython3",
   "version": "3.7.6"
  }
 },
 "nbformat": 4,
 "nbformat_minor": 4
}
