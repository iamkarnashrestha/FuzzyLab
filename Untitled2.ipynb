{
 "cells": [
  {
   "cell_type": "code",
   "execution_count": 9,
   "metadata": {},
   "outputs": [
    {
     "name": "stdout",
     "output_type": "stream",
     "text": [
      "enter the value of alpha0.4\n",
      "After alpha cut value  0.4  the set A is: {'b': 0.6, 'c': 0.7}\n"
     ]
    }
   ],
   "source": [
    "A={'a':0.3,  'b':0.6 , 'c':0.7}\n",
    "alpha=float(input(\"enter the value of alpha\"))\n",
    "Y_set=dict()\n",
    "for A_key in A:\n",
    "        A_value = A[A_key]\n",
    "        if alpha<=A_value:\n",
    "            Y_set[A_key] = A_value\n",
    "        \n",
    "print(\"After alpha cut value \",alpha,\" the set A is:\",Y_set)"
   ]
  }
 ],
 "metadata": {
  "kernelspec": {
   "display_name": "Python 3",
   "language": "python",
   "name": "python3"
  },
  "language_info": {
   "codemirror_mode": {
    "name": "ipython",
    "version": 3
   },
   "file_extension": ".py",
   "mimetype": "text/x-python",
   "name": "python",
   "nbconvert_exporter": "python",
   "pygments_lexer": "ipython3",
   "version": "3.7.6"
  }
 },
 "nbformat": 4,
 "nbformat_minor": 4
}
